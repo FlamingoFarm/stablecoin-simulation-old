{
 "cells": [
  {
   "cell_type": "markdown",
   "id": "2dd2c3e0",
   "metadata": {},
   "source": [
    "# Stablecoin Simulation"
   ]
  },
  {
   "cell_type": "markdown",
   "id": "34830165",
   "metadata": {},
   "source": [
    "---"
   ]
  },
  {
   "cell_type": "markdown",
   "id": "aa3a6cb9",
   "metadata": {},
   "source": [
    "This notebook is part of a stablecoin project."
   ]
  },
  {
   "cell_type": "markdown",
   "id": "535734af",
   "metadata": {},
   "source": [
    "---"
   ]
  },
  {
   "cell_type": "markdown",
   "id": "7b58399e",
   "metadata": {},
   "source": [
    "# Table of Contents\n",
    "\n",
    "1. [System Requirements](#1.-System-Requirements)\n",
    "  * [Requirements Analysis](#Requirements-Analysis)\n",
    "  * [Visual System Mappings](#Visual-System-Mappings)\n",
    "  * [Mathematical Specification](#Mathematical-Specification)\n",
    "\n",
    "\n",
    "2. [System Design](#2.-System-Design)\n",
    "  * [Differential Specification](#Differential-Specification)\n",
    "  * [Modelling](#Modelling)\n",
    "  * [Simulation](#Simulation)\n",
    "\n",
    "\n",
    "3. [System Validation](#3.-System-Validation)\n"
   ]
  },
  {
   "cell_type": "markdown",
   "id": "446e9479",
   "metadata": {},
   "source": [
    "---"
   ]
  },
  {
   "cell_type": "markdown",
   "id": "2fa4343b",
   "metadata": {},
   "source": [
    "# 1. System Requirements"
   ]
  },
  {
   "cell_type": "markdown",
   "id": "0d10fdd3",
   "metadata": {},
   "source": [
    "<center><img src=\"images/requirements.png\" alt=\"Requirements\" width=\"70%\"/>"
   ]
  },
  {
   "cell_type": "markdown",
   "id": "3f96cf92",
   "metadata": {},
   "source": [
    "## Requirements Analysis"
   ]
  },
  {
   "cell_type": "markdown",
   "id": "3b89da73",
   "metadata": {},
   "source": [
    "**Goal:** Simulate a simple collateral-backed stablecoin and examine the effects of external price shocks\n",
    "\n",
    "**Scope:** Learn how simulations can provide insights into specific dynamics\n",
    "\n",
    "**Question:** How do price shocks affect loan liquidations?\n",
    "\n",
    "**Assumptions:**\n",
    "- The price of the underlying loan asset follows a simple stochastic process\n",
    "- The agents don't follow a certain strategy. They maintain their loan positions arbitrarily\n",
    "- Liquidations are triggered immediately and go into a sink"
   ]
  },
  {
   "cell_type": "markdown",
   "id": "e8d49570",
   "metadata": {},
   "source": [
    "## Visual System Mappings"
   ]
  },
  {
   "cell_type": "markdown",
   "id": "05bb1691",
   "metadata": {},
   "source": [
    "#### Entity Relationship Diagram"
   ]
  },
  {
   "cell_type": "markdown",
   "id": "8f6753ee",
   "metadata": {},
   "source": [
    "TODO"
   ]
  },
  {
   "cell_type": "markdown",
   "id": "4b9a5b94",
   "metadata": {},
   "source": [
    "#### Stock & Flow Diagram"
   ]
  },
  {
   "cell_type": "markdown",
   "id": "66cd8997",
   "metadata": {},
   "source": [
    "TODO"
   ]
  },
  {
   "cell_type": "markdown",
   "id": "a248259c",
   "metadata": {},
   "source": [
    "## Mathematical Specification"
   ]
  },
  {
   "cell_type": "markdown",
   "id": "25c96711",
   "metadata": {},
   "source": [
    "TODO"
   ]
  },
  {
   "cell_type": "markdown",
   "id": "62548e62",
   "metadata": {},
   "source": [
    "---"
   ]
  },
  {
   "cell_type": "markdown",
   "id": "e454096c",
   "metadata": {},
   "source": [
    "# 2. System Design"
   ]
  },
  {
   "cell_type": "markdown",
   "id": "198aeb8d",
   "metadata": {},
   "source": [
    "<center><img src=\"images/design.png\" alt=\"Design\" width=\"70%\"/>"
   ]
  },
  {
   "cell_type": "markdown",
   "id": "b56c9bdd",
   "metadata": {},
   "source": [
    "## Differential Specification"
   ]
  },
  {
   "cell_type": "markdown",
   "id": "b8a0dc81",
   "metadata": {},
   "source": [
    "TODO"
   ]
  },
  {
   "cell_type": "markdown",
   "id": "5c68b62b",
   "metadata": {},
   "source": [
    "## Modelling"
   ]
  },
  {
   "cell_type": "code",
   "execution_count": null,
   "id": "cfc4a96d",
   "metadata": {},
   "outputs": [],
   "source": [
    "##############\n",
    "# 0. IMPORTS #\n",
    "##############\n",
    "\n",
    "# Standard libraries\n",
    "import math\n",
    "from collections import Counter\n",
    "import numpy as np\n",
    "import copy\n",
    "\n",
    "# utils\n",
    "import sys\n",
    "sys.path.append('./utils')\n",
    "from owner import Owner, OwnerStrategy\n",
    "from market_stress_simulator import MarketStressSimulator\n",
    "from metrics import Metrics\n",
    "from price_simulator import PriceSimulator\n",
    "from vault import Vault\n",
    "\n",
    "# Analysis and plotting modules\n",
    "import pandas as pd\n",
    "import plotly.express as px\n",
    "\n",
    "# radCAD modules\n",
    "from radcad import Model, Simulation, Experiment\n",
    "from radcad.engine import Engine, Backend\n"
   ]
  },
  {
   "cell_type": "code",
   "execution_count": null,
   "id": "1d3f2c16",
   "metadata": {},
   "outputs": [],
   "source": [
    "#############\n",
    "# 0b. UTILS #\n",
    "#############\n",
    "\n",
    "initial_coll_price = 2000\n",
    "\n",
    "owner = Owner(OwnerStrategy.TRADITIONAL)\n",
    "coll_price_simulator = PriceSimulator()\n",
    "market_stress_simulator = MarketStressSimulator()\n",
    "metrics = Metrics(initial_coll_price)\n"
   ]
  },
  {
   "cell_type": "code",
   "execution_count": null,
   "id": "0832335f",
   "metadata": {},
   "outputs": [],
   "source": [
    "######################\n",
    "# 1. STATE VARIABLES #\n",
    "######################\n",
    "\n",
    "initial_state = {\n",
    "    'coll_price': initial_coll_price,\n",
    "    'pct_coll_price_change': None,\n",
    "    'negative_shocks': 0,\n",
    "    'vault': Vault(initial_coll_price, 2000, 1.5, 1000000)\n",
    "}\n",
    "\n",
    "\n",
    "########################\n",
    "# 2. SYSTEM PARAMETERS #\n",
    "########################\n",
    "\n",
    "system_params = {}\n",
    "\n",
    "\n",
    "#######################\n",
    "# 3. POLICY FUNCTIONS #\n",
    "#######################\n",
    "\n",
    "def p_coll_price(params, substep, state_history, previous_state):\n",
    "    shock_occurence = market_stress_simulator.event_occurrence()\n",
    "    coll_price_change = coll_price_simulator.calculate_price_change(previous_state['coll_price'], shock_occurence)\n",
    "    updated_coll_price = previous_state['coll_price'] + coll_price_change\n",
    "    return {\n",
    "        'pct_coll_price_change': coll_price_change / previous_state['coll_price'],\n",
    "        'negative_shock_occurence': shock_occurence and coll_price_change < 0,\n",
    "        'updated_coll_price': updated_coll_price\n",
    "    }\n",
    "\n",
    "\n",
    "#############################\n",
    "# 4. STATE UPDATE FUNCTIONS #\n",
    "#############################\n",
    "\n",
    "def s_coll_price(params, substep, state_history, previous_state, policy_input):\n",
    "    coll_price = policy_input['updated_coll_price']\n",
    "    return ('coll_price', coll_price)\n",
    "\n",
    "def s_pct_coll_price_change(params, substep, state_history, previous_state, policy_input):\n",
    "    pct_coll_price_change = policy_input['pct_coll_price_change']\n",
    "    return ('pct_coll_price_change', pct_coll_price_change)\n",
    "\n",
    "def s_negative_shocks(params, substep, state_history, previous_state, policy_input):\n",
    "    negative_shocks = previous_state['negative_shocks']\n",
    "    if policy_input['negative_shock_occurence']:\n",
    "        negative_shocks += 1\n",
    "    return ('negative_shocks', negative_shocks)\n",
    "\n",
    "def s_vault(params, substep, state_history, previous_state, policy_input):\n",
    "    vault = copy.deepcopy(previous_state['vault'])\n",
    "    vault.update_coll_price(previous_state['coll_price'])\n",
    "    metrics.update_indicators(previous_state['coll_price'])\n",
    "    owner.modify_vault(vault, metrics.get_indicators())\n",
    "    return ('vault', vault)\n",
    "\n",
    "\n",
    "##################################\n",
    "# 5. PARTIAL STATE UPDATE BLOCKS #\n",
    "##################################\n",
    "\n",
    "state_update_blocks = [\n",
    "    {\n",
    "        'policies': {\n",
    "            'coll_price': p_coll_price\n",
    "        },\n",
    "        'variables': {\n",
    "            'coll_price': s_coll_price,\n",
    "            'pct_coll_price_change': s_pct_coll_price_change,\n",
    "            'negative_shocks': s_negative_shocks,\n",
    "        }\n",
    "    },\n",
    "    {\n",
    "        'policies': {},\n",
    "        'variables': {\n",
    "            'vault': s_vault\n",
    "        }\n",
    "    }\n",
    "]"
   ]
  },
  {
   "cell_type": "markdown",
   "id": "27951ce9",
   "metadata": {},
   "source": [
    "## Simulation"
   ]
  },
  {
   "cell_type": "code",
   "execution_count": null,
   "id": "2eceb892",
   "metadata": {},
   "outputs": [],
   "source": [
    "####################\n",
    "# 6. CONFIGURATION #\n",
    "####################\n",
    "\n",
    "model = Model(\n",
    "    initial_state=initial_state,\n",
    "    state_update_blocks=state_update_blocks,\n",
    "    # params=system_params\n",
    ")\n",
    "\n",
    "simulation = Simulation(\n",
    "    model=model,\n",
    "    timesteps=300,  # Number of timesteps\n",
    "    runs=10  # Number of Monte Carlo Runs\n",
    ")\n",
    "\n",
    "experiment = Experiment([simulation])\n",
    "# Select the Pathos backend to avoid issues with multiprocessing and Jupyter Notebooks\n",
    "experiment.engine = Engine(backend=Backend.PATHOS, drop_substeps=True)\n",
    "\n",
    "\n",
    "################\n",
    "# 7. EXECUTION #\n",
    "################\n",
    "\n",
    "raw_result = experiment.run()\n",
    "\n",
    "\n",
    "####################################\n",
    "# 8. SIMULATION OUTPUT PREPARATION #\n",
    "####################################\n",
    "\n",
    "simulation_result = pd.DataFrame(raw_result)\n",
    "\n",
    "simulation_result['coll_balance'] = [t.coll_balance for t in simulation_result['vault']]\n",
    "simulation_result['coll_value'] = [t.coll_value for t in simulation_result['vault']]\n",
    "simulation_result['loan_value'] = [t.loan_value for t in simulation_result['vault']]\n",
    "simulation_result['liquidated'] = [t.liquidated for t in simulation_result['vault']]\n",
    "simulation_result['liquidated_value'] = [t.liquidated_value for t in simulation_result['vault']]\n",
    "simulation_result['liquidation_buffer'] = [t.liquidation_buffer for t in simulation_result['vault']]\n",
    "simulation_result['volatility_buffer'] = [t.volatility_buffer for t in simulation_result['vault']]\n",
    "\n",
    "simulation_result.drop(columns=['vault'], inplace=True)\n",
    "\n",
    "simulation_result.head(10)\n"
   ]
  },
  {
   "cell_type": "code",
   "execution_count": null,
   "id": "2365007d-e1ca-45c4-b2c5-8de3dcd5a382",
   "metadata": {},
   "outputs": [],
   "source": [
    "########################################\n",
    "# 9. SIMULATION ANALYSIS: SHOCK EVENTS #\n",
    "########################################\n",
    "\n",
    "pd.options.plotting.backend = \"plotly\"\n",
    "simulation_result.plot(\n",
    "    kind='line',\n",
    "    x='timestep',\n",
    "    y=['negative_shocks'],\n",
    "    title=\"Negative Market Shocks\",\n",
    "    labels={\"value\": \"event number\"},\n",
    "    color='run'\n",
    ")"
   ]
  },
  {
   "cell_type": "code",
   "execution_count": null,
   "id": "02751357",
   "metadata": {},
   "outputs": [],
   "source": [
    "###################################################\n",
    "# 9. SIMULATION ANALYSIS: COLLATERAL PRICE CHANGE #\n",
    "###################################################\n",
    "\n",
    "pd.options.plotting.backend = \"plotly\"\n",
    "simulation_result.plot(\n",
    "    kind='line',\n",
    "    x='timestep',\n",
    "    y=['pct_coll_price_change'],\n",
    "    title=\"Percentage of Collateral Price Change\",\n",
    "    color='run'\n",
    ")"
   ]
  },
  {
   "cell_type": "code",
   "execution_count": null,
   "id": "15fb6d65",
   "metadata": {},
   "outputs": [],
   "source": [
    "############################################\n",
    "# 9. SIMULATION ANALYSIS: COLLATERAL PRICE #\n",
    "############################################\n",
    "\n",
    "pd.options.plotting.backend = \"plotly\"\n",
    "simulation_result.plot(\n",
    "    kind='line',\n",
    "    x='timestep',\n",
    "    y=['coll_price'],\n",
    "    title=\"Collateral Price\",\n",
    "    color='run'\n",
    ")"
   ]
  },
  {
   "cell_type": "code",
   "execution_count": null,
   "id": "6e5ff8f2",
   "metadata": {},
   "outputs": [],
   "source": [
    "############################################\n",
    "# 9. SIMULATION ANALYSIS: COLLATERAL VALUE #\n",
    "############################################\n",
    "\n",
    "pd.options.plotting.backend = \"plotly\"\n",
    "simulation_result.plot(\n",
    "    kind='line',\n",
    "    x='timestep',\n",
    "    y=['coll_value'],\n",
    "    title=\"Vault\",\n",
    "    color='run'\n",
    ")"
   ]
  },
  {
   "cell_type": "code",
   "execution_count": null,
   "id": "60e194ba-df2b-45af-889b-8b1bcd61449d",
   "metadata": {},
   "outputs": [],
   "source": [
    "##################################\n",
    "# 9. SIMULATION ANALYSIS: VAULTS #\n",
    "##################################\n",
    "\n",
    "px.bar(\n",
    "    simulation_result,\n",
    "    x='run', # Variable on the horizontal axis\n",
    "    y=['loan_value', 'liquidation_buffer', 'volatility_buffer', 'liquidated_value'], # Variables on the vertical axis\n",
    "    # range_y=[0, max_coll_value + 100], # Set the range for the y-axis values\n",
    "    title=\"Vault\",\n",
    "    animation_frame='timestep', # Set the variable to animate\n",
    ")"
   ]
  },
  {
   "cell_type": "markdown",
   "id": "b796dcfd",
   "metadata": {},
   "source": [
    "---"
   ]
  },
  {
   "cell_type": "markdown",
   "id": "e62eafdd",
   "metadata": {},
   "source": [
    "# 3. System Validation"
   ]
  },
  {
   "cell_type": "markdown",
   "id": "21d59595",
   "metadata": {},
   "source": [
    "<center><img src=\"images/validation.png\" alt=\"Validation\" width=\"70%\"/>"
   ]
  },
  {
   "cell_type": "code",
   "execution_count": null,
   "id": "86e355f5",
   "metadata": {},
   "outputs": [],
   "source": [
    "pd.options.plotting.backend = \"plotly\"\n",
    "\n",
    "test_metrics = Metrics(2000)\n",
    "simulation_result_subset = simulation_result[['coll_price', 'run']].drop([0]) # first row already passed via Matrics constructor\n",
    "single_run = simulation_result_subset[simulation_result_subset.run == 6]\n",
    "\n",
    "for p in single_run['coll_price']:\n",
    "    test_metrics.update_indicators(p)\n",
    "    \n",
    "test_indicators = test_metrics.get_all_indicators()\n",
    "\n",
    "test_indicators.plot(\n",
    "    kind='line',\n",
    "    y=['coll_price', 'moving_average', 'exponential_moving_average']\n",
    ")"
   ]
  },
  {
   "cell_type": "code",
   "execution_count": null,
   "id": "dcb2d246",
   "metadata": {},
   "outputs": [],
   "source": [
    "test_indicators.head(301)"
   ]
  }
 ],
 "metadata": {
  "kernelspec": {
   "display_name": "Python 3 (ipykernel)",
   "language": "python",
   "name": "python3"
  },
  "language_info": {
   "codemirror_mode": {
    "name": "ipython",
    "version": 3
   },
   "file_extension": ".py",
   "mimetype": "text/x-python",
   "name": "python",
   "nbconvert_exporter": "python",
   "pygments_lexer": "ipython3",
   "version": "3.10.13"
  }
 },
 "nbformat": 4,
 "nbformat_minor": 5
}
